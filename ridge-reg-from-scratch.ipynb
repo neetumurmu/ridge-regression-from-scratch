{
 "cells": [
  {
   "cell_type": "markdown",
   "metadata": {},
   "source": [
    "### Import dependencies"
   ]
  },
  {
   "cell_type": "code",
   "execution_count": 1,
   "metadata": {},
   "outputs": [],
   "source": [
    "import numpy as np\n",
    "import pandas as pd\n",
    "import seaborn as sns\n",
    "import matplotlib.pyplot as plt\n",
    "from scipy.stats import zscore\n",
    "from sklearn.linear_model import LinearRegression, Ridge, RidgeCV\n",
    "from sklearn.metrics import mean_squared_error\n",
    "from sklearn.model_selection import cross_val_score\n",
    "from sklearn.model_selection import train_test_split\n",
    "from sklearn.preprocessing import StandardScaler\n",
    "\n",
    "from numpy.random import randn\n",
    "from scipy.stats import pearsonr\n",
    "from numpy import corrcoef\n",
    "\n",
    "from sklearn.metrics import r2_score\n",
    "\n",
    "from sklearn.datasets import make_regression\n",
    "from matplotlib import pyplot"
   ]
  },
  {
   "cell_type": "markdown",
   "metadata": {},
   "source": [
    "### Function to simulate dataset for testing algorithms"
   ]
  },
  {
   "cell_type": "code",
   "execution_count": 2,
   "metadata": {},
   "outputs": [],
   "source": [
    "def generate_dataset(n_samples, n_features, effective_rank, noise, random_state=6, coef=True):\n",
    "    X, y, coef = make_regression(n_samples=n_samples, \n",
    "                                 n_features=n_features,  \n",
    "                                 effective_rank=effective_rank,\n",
    "                                 noise=noise,\n",
    "                                 random_state=random_state,\n",
    "                                 coef=coef)   \n",
    "    # add later:\n",
    "    # bias, n_informative\n",
    "    X = pd.DataFrame(X)\n",
    "    y = pd.Series(y)\n",
    "    X.columns = [f'col_{i+1}' for i in range(len(X.columns))]\n",
    "    \n",
    "    return X, y, coef\n",
    "\n",
    "\n",
    "# noise --- The standard deviation of the gaussian noise applied to the output.\n",
    "# effective_rank --- The approximate number of singular vectors required to explain most of the input data by linear combinations. \n",
    "# Using this kind of singular spectrum in the input allows the generator to reproduce the correlations often observed in practice."
   ]
  },
  {
   "cell_type": "markdown",
   "metadata": {},
   "source": [
    "### Dataset generation and Normalization"
   ]
  },
  {
   "cell_type": "code",
   "execution_count": 3,
   "metadata": {},
   "outputs": [
    {
     "data": {
      "text/html": [
       "<div>\n",
       "<style scoped>\n",
       "    .dataframe tbody tr th:only-of-type {\n",
       "        vertical-align: middle;\n",
       "    }\n",
       "\n",
       "    .dataframe tbody tr th {\n",
       "        vertical-align: top;\n",
       "    }\n",
       "\n",
       "    .dataframe thead th {\n",
       "        text-align: right;\n",
       "    }\n",
       "</style>\n",
       "<table border=\"1\" class=\"dataframe\">\n",
       "  <thead>\n",
       "    <tr style=\"text-align: right;\">\n",
       "      <th></th>\n",
       "      <th>col_1</th>\n",
       "      <th>col_2</th>\n",
       "      <th>col_3</th>\n",
       "      <th>col_4</th>\n",
       "      <th>col_5</th>\n",
       "      <th>col_6</th>\n",
       "      <th>col_7</th>\n",
       "      <th>col_8</th>\n",
       "      <th>col_9</th>\n",
       "      <th>col_10</th>\n",
       "    </tr>\n",
       "  </thead>\n",
       "  <tbody>\n",
       "    <tr>\n",
       "      <th>0</th>\n",
       "      <td>-1.350628</td>\n",
       "      <td>-0.769798</td>\n",
       "      <td>-1.174399</td>\n",
       "      <td>-0.292397</td>\n",
       "      <td>0.374329</td>\n",
       "      <td>-1.351269</td>\n",
       "      <td>1.183567</td>\n",
       "      <td>0.361889</td>\n",
       "      <td>1.528273</td>\n",
       "      <td>-0.964404</td>\n",
       "    </tr>\n",
       "    <tr>\n",
       "      <th>1</th>\n",
       "      <td>1.005382</td>\n",
       "      <td>1.953730</td>\n",
       "      <td>0.043104</td>\n",
       "      <td>1.297864</td>\n",
       "      <td>-0.334015</td>\n",
       "      <td>0.706164</td>\n",
       "      <td>-2.325961</td>\n",
       "      <td>0.042009</td>\n",
       "      <td>-0.523241</td>\n",
       "      <td>1.478280</td>\n",
       "    </tr>\n",
       "    <tr>\n",
       "      <th>2</th>\n",
       "      <td>-0.886513</td>\n",
       "      <td>-1.142556</td>\n",
       "      <td>-0.441451</td>\n",
       "      <td>0.449528</td>\n",
       "      <td>0.750047</td>\n",
       "      <td>-0.906594</td>\n",
       "      <td>-0.543024</td>\n",
       "      <td>0.752435</td>\n",
       "      <td>0.048777</td>\n",
       "      <td>-1.303672</td>\n",
       "    </tr>\n",
       "    <tr>\n",
       "      <th>3</th>\n",
       "      <td>0.182814</td>\n",
       "      <td>0.596040</td>\n",
       "      <td>0.922319</td>\n",
       "      <td>0.120746</td>\n",
       "      <td>-0.028927</td>\n",
       "      <td>0.345319</td>\n",
       "      <td>0.539579</td>\n",
       "      <td>-0.481327</td>\n",
       "      <td>-0.701598</td>\n",
       "      <td>0.542308</td>\n",
       "    </tr>\n",
       "    <tr>\n",
       "      <th>4</th>\n",
       "      <td>1.710477</td>\n",
       "      <td>-0.188596</td>\n",
       "      <td>0.542471</td>\n",
       "      <td>0.307411</td>\n",
       "      <td>-2.159518</td>\n",
       "      <td>0.903103</td>\n",
       "      <td>0.570584</td>\n",
       "      <td>-0.723150</td>\n",
       "      <td>-0.675225</td>\n",
       "      <td>-0.812805</td>\n",
       "    </tr>\n",
       "  </tbody>\n",
       "</table>\n",
       "</div>"
      ],
      "text/plain": [
       "      col_1     col_2     col_3     col_4     col_5     col_6     col_7  \\\n",
       "0 -1.350628 -0.769798 -1.174399 -0.292397  0.374329 -1.351269  1.183567   \n",
       "1  1.005382  1.953730  0.043104  1.297864 -0.334015  0.706164 -2.325961   \n",
       "2 -0.886513 -1.142556 -0.441451  0.449528  0.750047 -0.906594 -0.543024   \n",
       "3  0.182814  0.596040  0.922319  0.120746 -0.028927  0.345319  0.539579   \n",
       "4  1.710477 -0.188596  0.542471  0.307411 -2.159518  0.903103  0.570584   \n",
       "\n",
       "      col_8     col_9    col_10  \n",
       "0  0.361889  1.528273 -0.964404  \n",
       "1  0.042009 -0.523241  1.478280  \n",
       "2  0.752435  0.048777 -1.303672  \n",
       "3 -0.481327 -0.701598  0.542308  \n",
       "4 -0.723150 -0.675225 -0.812805  "
      ]
     },
     "execution_count": 3,
     "metadata": {},
     "output_type": "execute_result"
    }
   ],
   "source": [
    "X, y, coef_data = generate_dataset(n_samples=5000, n_features=10, effective_rank=1, noise=0.3)\n",
    "\n",
    "scaler = StandardScaler()\n",
    "X_norm = scaler.fit_transform(X)\n",
    "X_norm = pd.DataFrame(X_norm)\n",
    "X_norm.columns = [f'col_{i+1}' for i in range(len(X.columns))]\n",
    "X_norm.head()"
   ]
  },
  {
   "cell_type": "markdown",
   "metadata": {},
   "source": [
    "### Train on Scikit-learn algorithms"
   ]
  },
  {
   "cell_type": "code",
   "execution_count": 4,
   "metadata": {},
   "outputs": [],
   "source": [
    "X_train, X_test, y_train, y_test = train_test_split(X_norm, y, test_size=0.5, random_state=6)"
   ]
  },
  {
   "cell_type": "code",
   "execution_count": 5,
   "metadata": {},
   "outputs": [
    {
     "data": {
      "text/plain": [
       "((2500, 10), (2500, 10))"
      ]
     },
     "execution_count": 5,
     "metadata": {},
     "output_type": "execute_result"
    }
   ],
   "source": [
    "X_train.shape, X_test.shape"
   ]
  },
  {
   "cell_type": "code",
   "execution_count": 6,
   "metadata": {},
   "outputs": [
    {
     "name": "stdout",
     "output_type": "stream",
     "text": [
      "----- Ridge Regression -----\n",
      "Cross validation scores : [0.95491717 0.95673209 0.95641968 0.95123234 0.95783682]\n",
      "Test score : 0.9537393206228691\n"
     ]
    }
   ],
   "source": [
    "ridge = Ridge(alpha=1)\n",
    "\n",
    "print(\"----- Ridge Regression -----\")\n",
    "val_scores = cross_val_score(ridge, X_train, y_train, cv=5)\n",
    "print(f'Cross validation scores : {val_scores}')\n",
    "\n",
    "ridge.fit(X_train, y_train)\n",
    "test_score = ridge.score(X_test, y_test)\n",
    "print(f'Test score : {test_score}')"
   ]
  },
  {
   "cell_type": "markdown",
   "metadata": {},
   "source": [
    "### Helper functions"
   ]
  },
  {
   "cell_type": "code",
   "execution_count": 7,
   "metadata": {},
   "outputs": [],
   "source": [
    "def normalize(col):\n",
    "    '''\n",
    "    normalize each variable between 0 to 1\n",
    "    with mean zero and std. deviation equal to 1 \n",
    "    '''\n",
    "    mean = col.mean()\n",
    "    std_dev = col.std()\n",
    "    col = [(x - mean)/std_dev for x in col]\n",
    "    \n",
    "    return col\n",
    "\n",
    "def score(y_true, y_pred):\n",
    "    score = r2_score(y_true, y_pred)\n",
    "    return score\n",
    "\n",
    "def predict(feat, coef):\n",
    "    '''\n",
    "    Make prediction for a row (instance)\n",
    "    '''\n",
    "    y_pred = coef[0]\n",
    "    \n",
    "    for i in range(feat.shape[0]):\n",
    "        y_pred += coef[i+1] * feat[i]\n",
    "    return y_pred"
   ]
  },
  {
   "cell_type": "markdown",
   "metadata": {},
   "source": [
    "### SGD based algorithms"
   ]
  },
  {
   "cell_type": "code",
   "execution_count": 20,
   "metadata": {},
   "outputs": [],
   "source": [
    "def sgd_ridge(train_X, label, lr, n_epoch, alpha):\n",
    "  \n",
    "    coef = [0.0 for i in range(train_X.shape[1] + 1)]\n",
    "    \n",
    "    for epoch in range(n_epoch):\n",
    "        total_loss = 0\n",
    "        \n",
    "        for lbl, (idx, x) in zip(label, train_X.iterrows()):\n",
    "            y_pred = predict(x, coef)\n",
    "            loss = y_pred - lbl\n",
    "            total_loss += loss**2\n",
    "            coef[0] = coef[0] - lr * loss    # update bias coefficient\n",
    "            \n",
    "            for i in range(train_X.shape[1]):\n",
    "                coef[i+1] = coef[i+1] - lr * ((loss * x[i]) + (alpha * coef[i+1]))    # update features' coefficients\n",
    "                \n",
    "#         if epoch%2==0:\n",
    "#             print(epoch)\n",
    "             \n",
    "    return coef"
   ]
  },
  {
   "cell_type": "markdown",
   "metadata": {},
   "source": [
    "### BGD based algorithms"
   ]
  },
  {
   "cell_type": "code",
   "execution_count": 21,
   "metadata": {},
   "outputs": [],
   "source": [
    "def get_derivative_bias(label, train_X, coef):\n",
    "    \n",
    "    derivative = 0\n",
    "    for lbl, (idx, x) in zip(label, train_X.iterrows()):\n",
    "        y_pred = predict(x, coef)\n",
    "        loss = y_pred - lbl\n",
    "        der = loss\n",
    "        derivative += der\n",
    "        \n",
    "    return derivative/train_X.shape[0]\n",
    "\n",
    "\n",
    "def get_derivative_coef(label, train_X, coef, alpha, j):\n",
    "    \n",
    "    derivative = 0\n",
    "    for lbl, (idx, x) in zip(label, train_X.iterrows()):\n",
    "        y_pred = predict(x, coef)\n",
    "        loss = y_pred - lbl\n",
    "        der = loss * x[j]\n",
    "        derivative += der\n",
    "        \n",
    "    derivative += alpha * coef[j+1]\n",
    "    return derivative/train_X.shape[0]\n",
    "\n",
    "\n",
    "def bgd_ridge(train_X, label, lr, n_epoch, alpha):\n",
    "  \n",
    "    coef = [0.0 for i in range(train_X.shape[1] + 1)]\n",
    "    \n",
    "    for epoch in range(n_epoch):\n",
    "        \n",
    "        # get derivative w.r.t bias, then update the bias\n",
    "        derivative_bias = get_derivative_bias(label, train_X, coef)\n",
    "        coef[0] = coef[0] - lr * derivative_bias\n",
    "        \n",
    "        for j in range(train_X.shape[1]):\n",
    "            \n",
    "            # get derivative w.r.t j-th coef, then update coef\n",
    "            derivative_coef = get_derivative_coef(label, train_X, coef, alpha, j)\n",
    "            coef[j+1] = coef[j+1] - lr * derivative_coef\n",
    "            \n",
    "#         if epoch%2==0:\n",
    "#             print(epoch)\n",
    "                        \n",
    "    return coef"
   ]
  },
  {
   "cell_type": "markdown",
   "metadata": {},
   "source": [
    "### Train and evaluate algorithms"
   ]
  },
  {
   "cell_type": "markdown",
   "metadata": {},
   "source": [
    "#### Train SGD-based algorithms"
   ]
  },
  {
   "cell_type": "code",
   "execution_count": 22,
   "metadata": {},
   "outputs": [],
   "source": [
    "# Train ridge reg - SGD\n",
    "coef_sgd_ridge = sgd_ridge(X_train, y_train, 0.01, 40, 1)"
   ]
  },
  {
   "cell_type": "code",
   "execution_count": 23,
   "metadata": {},
   "outputs": [
    {
     "data": {
      "text/plain": [
       "0.7089951966689771"
      ]
     },
     "execution_count": 23,
     "metadata": {},
     "output_type": "execute_result"
    }
   ],
   "source": [
    "# Evaluate ridge reg - SGD\n",
    "y_preds_ridge = []\n",
    "for _, feat in X_test.iterrows():\n",
    "    y_pred = predict(feat, coef_sgd_ridge)\n",
    "    y_preds_ridge.append(y_pred)\n",
    "    \n",
    "score(y_test, y_preds_ridge)"
   ]
  },
  {
   "cell_type": "markdown",
   "metadata": {},
   "source": [
    "#### Train BGD-based algorithms"
   ]
  },
  {
   "cell_type": "code",
   "execution_count": 24,
   "metadata": {},
   "outputs": [],
   "source": [
    "coef_bgd_ridge = bgd_ridge(X_train, y_train, 0.02, 40, 1)"
   ]
  },
  {
   "cell_type": "code",
   "execution_count": 25,
   "metadata": {},
   "outputs": [
    {
     "data": {
      "text/plain": [
       "0.7794602857605928"
      ]
     },
     "execution_count": 25,
     "metadata": {},
     "output_type": "execute_result"
    }
   ],
   "source": [
    "# Evaluate ridge reg - BGD\n",
    "y_preds_ridge_bgd = []\n",
    "for _, feat in X_test.iterrows():\n",
    "    y_pred = predict(feat, coef_bgd_ridge)\n",
    "    y_preds_ridge_bgd.append(y_pred)\n",
    "    \n",
    "score(y_test, y_preds_ridge_bgd)"
   ]
  },
  {
   "cell_type": "code",
   "execution_count": null,
   "metadata": {},
   "outputs": [],
   "source": []
  },
  {
   "cell_type": "code",
   "execution_count": null,
   "metadata": {},
   "outputs": [],
   "source": []
  }
 ],
 "metadata": {
  "kernelspec": {
   "display_name": "Python 3",
   "language": "python",
   "name": "python3"
  },
  "language_info": {
   "codemirror_mode": {
    "name": "ipython",
    "version": 3
   },
   "file_extension": ".py",
   "mimetype": "text/x-python",
   "name": "python",
   "nbconvert_exporter": "python",
   "pygments_lexer": "ipython3",
   "version": "3.8.2"
  }
 },
 "nbformat": 4,
 "nbformat_minor": 2
}
